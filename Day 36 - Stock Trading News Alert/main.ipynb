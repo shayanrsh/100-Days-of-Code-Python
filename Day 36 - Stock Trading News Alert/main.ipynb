{
 "cells": [
  {
   "cell_type": "code",
   "execution_count": 45,
   "id": "initial_id",
   "metadata": {
    "collapsed": true,
    "ExecuteTime": {
     "end_time": "2023-11-04T16:36:30.418970300Z",
     "start_time": "2023-11-04T16:36:29.469214400Z"
    }
   },
   "outputs": [],
   "source": [
    "import requests\n",
    "import os\n",
    "\n",
    "STOCK = \"TSLA\"\n",
    "COMPANY_NAME = \"Tesla Inc\"\n",
    "\n",
    "url = 'https://www.alphavantage.co/query'\n",
    "api_key = os.environ.get(\"STOCK_API_KEY\")\n",
    "params = {\n",
    "    \"function\": \"TIME_SERIES_DAILY\",\n",
    "    \"symbol\": STOCK,\n",
    "    \"apikey\": api_key,\n",
    "}\n",
    "response = requests.get(url, params=params)\n",
    "data = response.json()"
   ]
  },
  {
   "cell_type": "code",
   "execution_count": 32,
   "outputs": [
    {
     "data": {
      "text/plain": "{'Meta Data': {'1. Information': 'Daily Prices (open, high, low, close) and Volumes',\n  '2. Symbol': 'TSLA',\n  '3. Last Refreshed': '2023-11-03',\n  '4. Output Size': 'Compact',\n  '5. Time Zone': 'US/Eastern'},\n 'Time Series (Daily)': {'2023-11-03': {'1. open': '221.1500',\n   '2. high': '226.3701',\n   '3. low': '218.4000',\n   '4. close': '219.9600',\n   '5. volume': '119534790'},\n  '2023-11-02': {'1. open': '212.9700',\n   '2. high': '219.2000',\n   '3. low': '211.4500',\n   '4. close': '218.5100',\n   '5. volume': '125987621'},\n  '2023-11-01': {'1. open': '204.0400',\n   '2. high': '205.9900',\n   '3. low': '197.8500',\n   '4. close': '205.6600',\n   '5. volume': '121661656'},\n  '2023-10-31': {'1. open': '196.1200',\n   '2. high': '202.8000',\n   '3. low': '194.0700',\n   '4. close': '200.8400',\n   '5. volume': '118068273'},\n  '2023-10-30': {'1. open': '209.2800',\n   '2. high': '210.8800',\n   '3. low': '194.6700',\n   '4. close': '197.3600',\n   '5. volume': '136448167'},\n  '2023-10-27': {'1. open': '210.6000',\n   '2. high': '212.4100',\n   '3. low': '205.7700',\n   '4. close': '207.3000',\n   '5. volume': '94881173'},\n  '2023-10-26': {'1. open': '211.3200',\n   '2. high': '214.8000',\n   '3. low': '204.8800',\n   '4. close': '205.7600',\n   '5. volume': '115112635'},\n  '2023-10-25': {'1. open': '215.8800',\n   '2. high': '220.1000',\n   '3. low': '212.2000',\n   '4. close': '212.4200',\n   '5. volume': '107065087'},\n  '2023-10-24': {'1. open': '216.5000',\n   '2. high': '222.0500',\n   '3. low': '214.1100',\n   '4. close': '216.5200',\n   '5. volume': '118231113'},\n  '2023-10-23': {'1. open': '210.0000',\n   '2. high': '216.9800',\n   '3. low': '202.5100',\n   '4. close': '212.0800',\n   '5. volume': '150683368'},\n  '2023-10-20': {'1. open': '217.0100',\n   '2. high': '218.8606',\n   '3. low': '210.4200',\n   '4. close': '211.9900',\n   '5. volume': '138010095'},\n  '2023-10-19': {'1. open': '225.9500',\n   '2. high': '230.6100',\n   '3. low': '216.7800',\n   '4. close': '220.1100',\n   '5. volume': '170772713'},\n  '2023-10-18': {'1. open': '252.7000',\n   '2. high': '254.6300',\n   '3. low': '242.0800',\n   '4. close': '242.6800',\n   '5. volume': '125147846'},\n  '2023-10-17': {'1. open': '250.1000',\n   '2. high': '257.1830',\n   '3. low': '247.0800',\n   '4. close': '254.8500',\n   '5. volume': '93562909'},\n  '2023-10-16': {'1. open': '250.0500',\n   '2. high': '255.3999',\n   '3. low': '248.4800',\n   '4. close': '253.9200',\n   '5. volume': '88917176'},\n  '2023-10-13': {'1. open': '258.9000',\n   '2. high': '259.6000',\n   '3. low': '250.2200',\n   '4. close': '251.1200',\n   '5. volume': '102296786'},\n  '2023-10-12': {'1. open': '262.9200',\n   '2. high': '265.4100',\n   '3. low': '256.6307',\n   '4. close': '258.8700',\n   '5. volume': '111508114'},\n  '2023-10-11': {'1. open': '266.2000',\n   '2. high': '268.6000',\n   '3. low': '260.9000',\n   '4. close': '262.9900',\n   '5. volume': '103706266'},\n  '2023-10-10': {'1. open': '257.7500',\n   '2. high': '268.9400',\n   '3. low': '257.6500',\n   '4. close': '263.6200',\n   '5. volume': '122656030'},\n  '2023-10-09': {'1. open': '255.3100',\n   '2. high': '261.3600',\n   '3. low': '252.0500',\n   '4. close': '259.6700',\n   '5. volume': '101377947'},\n  '2023-10-06': {'1. open': '253.9800',\n   '2. high': '261.6500',\n   '3. low': '250.6500',\n   '4. close': '260.5300',\n   '5. volume': '118121812'},\n  '2023-10-05': {'1. open': '260.0000',\n   '2. high': '263.6000',\n   '3. low': '256.2500',\n   '4. close': '260.0500',\n   '5. volume': '119159214'},\n  '2023-10-04': {'1. open': '248.1400',\n   '2. high': '261.8600',\n   '3. low': '247.6000',\n   '4. close': '261.1600',\n   '5. volume': '129721567'},\n  '2023-10-03': {'1. open': '248.6100',\n   '2. high': '250.0200',\n   '3. low': '244.4500',\n   '4. close': '246.5300',\n   '5. volume': '101985305'},\n  '2023-10-02': {'1. open': '244.8100',\n   '2. high': '254.2799',\n   '3. low': '242.6200',\n   '4. close': '251.6000',\n   '5. volume': '123810402'},\n  '2023-09-29': {'1. open': '250.0000',\n   '2. high': '254.7700',\n   '3. low': '246.3500',\n   '4. close': '250.2200',\n   '5. volume': '128522729'},\n  '2023-09-28': {'1. open': '240.0200',\n   '2. high': '247.5500',\n   '3. low': '238.6500',\n   '4. close': '246.3800',\n   '5. volume': '117058870'},\n  '2023-09-27': {'1. open': '244.2620',\n   '2. high': '245.3300',\n   '3. low': '234.5800',\n   '4. close': '240.5000',\n   '5. volume': '136597184'},\n  '2023-09-26': {'1. open': '242.9800',\n   '2. high': '249.5500',\n   '3. low': '241.6601',\n   '4. close': '244.1200',\n   '5. volume': '101993631'},\n  '2023-09-25': {'1. open': '243.3800',\n   '2. high': '247.1000',\n   '3. low': '238.3100',\n   '4. close': '246.9900',\n   '5. volume': '104636557'},\n  '2023-09-22': {'1. open': '257.4000',\n   '2. high': '257.7888',\n   '3. low': '244.4800',\n   '4. close': '244.8800',\n   '5. volume': '127524083'},\n  '2023-09-21': {'1. open': '257.8500',\n   '2. high': '260.8600',\n   '3. low': '254.2100',\n   '4. close': '255.7000',\n   '5. volume': '119951516'},\n  '2023-09-20': {'1. open': '267.0400',\n   '2. high': '273.9300',\n   '3. low': '262.4606',\n   '4. close': '262.5900',\n   '5. volume': '122514643'},\n  '2023-09-19': {'1. open': '264.3500',\n   '2. high': '267.8500',\n   '3. low': '261.2000',\n   '4. close': '266.5000',\n   '5. volume': '103704040'},\n  '2023-09-18': {'1. open': '271.1600',\n   '2. high': '271.4400',\n   '3. low': '263.7601',\n   '4. close': '265.2800',\n   '5. volume': '101543305'},\n  '2023-09-15': {'1. open': '277.5500',\n   '2. high': '278.9800',\n   '3. low': '271.0000',\n   '4. close': '274.3900',\n   '5. volume': '133692313'},\n  '2023-09-14': {'1. open': '271.3200',\n   '2. high': '276.7094',\n   '3. low': '270.4200',\n   '4. close': '276.0400',\n   '5. volume': '107709842'},\n  '2023-09-13': {'1. open': '270.0700',\n   '2. high': '274.9800',\n   '3. low': '268.1000',\n   '4. close': '271.3000',\n   '5. volume': '111673737'},\n  '2023-09-12': {'1. open': '270.7600',\n   '2. high': '278.3900',\n   '3. low': '266.6000',\n   '4. close': '267.4800',\n   '5. volume': '135999866'},\n  '2023-09-11': {'1. open': '264.2700',\n   '2. high': '274.8500',\n   '3. low': '260.6100',\n   '4. close': '273.5800',\n   '5. volume': '174667852'},\n  '2023-09-08': {'1. open': '251.2200',\n   '2. high': '256.5200',\n   '3. low': '246.6700',\n   '4. close': '248.5000',\n   '5. volume': '118559635'},\n  '2023-09-07': {'1. open': '245.0700',\n   '2. high': '252.8100',\n   '3. low': '243.2650',\n   '4. close': '251.4900',\n   '5. volume': '115312886'},\n  '2023-09-06': {'1. open': '255.1350',\n   '2. high': '255.3900',\n   '3. low': '245.0600',\n   '4. close': '251.9200',\n   '5. volume': '116959759'},\n  '2023-09-05': {'1. open': '245.0000',\n   '2. high': '258.0000',\n   '3. low': '244.8600',\n   '4. close': '256.4900',\n   '5. volume': '129469565'},\n  '2023-09-01': {'1. open': '257.2600',\n   '2. high': '259.0794',\n   '3. low': '242.0100',\n   '4. close': '245.0100',\n   '5. volume': '132541640'},\n  '2023-08-31': {'1. open': '255.9800',\n   '2. high': '261.1800',\n   '3. low': '255.0500',\n   '4. close': '258.0800',\n   '5. volume': '108861698'},\n  '2023-08-30': {'1. open': '254.2000',\n   '2. high': '260.5100',\n   '3. low': '250.5900',\n   '4. close': '256.9000',\n   '5. volume': '121988437'},\n  '2023-08-29': {'1. open': '238.5800',\n   '2. high': '257.4800',\n   '3. low': '237.7700',\n   '4. close': '257.1800',\n   '5. volume': '134047603'},\n  '2023-08-28': {'1. open': '242.5800',\n   '2. high': '244.3800',\n   '3. low': '235.3500',\n   '4. close': '238.8200',\n   '5. volume': '107673727'},\n  '2023-08-25': {'1. open': '231.3100',\n   '2. high': '239.0000',\n   '3. low': '230.3500',\n   '4. close': '238.5900',\n   '5. volume': '106612231'},\n  '2023-08-24': {'1. open': '238.6600',\n   '2. high': '238.9200',\n   '3. low': '228.1801',\n   '4. close': '230.0400',\n   '5. volume': '99777432'},\n  '2023-08-23': {'1. open': '229.3400',\n   '2. high': '238.9800',\n   '3. low': '229.2900',\n   '4. close': '236.8600',\n   '5. volume': '101077635'},\n  '2023-08-22': {'1. open': '240.2500',\n   '2. high': '240.8200',\n   '3. low': '229.5500',\n   '4. close': '233.1900',\n   '5. volume': '130597886'},\n  '2023-08-21': {'1. open': '221.5512',\n   '2. high': '232.1343',\n   '3. low': '220.5800',\n   '4. close': '231.2800',\n   '5. volume': '135702671'},\n  '2023-08-18': {'1. open': '214.1200',\n   '2. high': '217.5800',\n   '3. low': '212.3600',\n   '4. close': '215.4900',\n   '5. volume': '136276584'},\n  '2023-08-17': {'1. open': '226.0600',\n   '2. high': '226.7400',\n   '3. low': '218.8300',\n   '4. close': '219.2200',\n   '5. volume': '120718417'},\n  '2023-08-16': {'1. open': '228.0200',\n   '2. high': '233.9700',\n   '3. low': '225.3800',\n   '4. close': '225.6000',\n   '5. volume': '112484520'},\n  '2023-08-15': {'1. open': '238.7300',\n   '2. high': '240.5000',\n   '3. low': '232.6100',\n   '4. close': '232.9600',\n   '5. volume': '88197599'},\n  '2023-08-14': {'1. open': '235.7000',\n   '2. high': '240.6600',\n   '3. low': '233.7500',\n   '4. close': '239.7600',\n   '5. volume': '98595331'},\n  '2023-08-11': {'1. open': '241.7700',\n   '2. high': '243.7900',\n   '3. low': '238.0200',\n   '4. close': '242.6500',\n   '5. volume': '99038642'},\n  '2023-08-10': {'1. open': '245.4000',\n   '2. high': '251.8000',\n   '3. low': '243.0000',\n   '4. close': '245.3400',\n   '5. volume': '109498608'},\n  '2023-08-09': {'1. open': '250.8700',\n   '2. high': '251.1000',\n   '3. low': '241.9000',\n   '4. close': '242.1900',\n   '5. volume': '101596324'},\n  '2023-08-08': {'1. open': '247.4500',\n   '2. high': '250.9200',\n   '3. low': '245.0100',\n   '4. close': '249.7000',\n   '5. volume': '96642183'},\n  '2023-08-07': {'1. open': '251.4500',\n   '2. high': '253.6511',\n   '3. low': '242.7600',\n   '4. close': '251.4500',\n   '5. volume': '111097943'},\n  '2023-08-04': {'1. open': '260.9700',\n   '2. high': '264.7700',\n   '3. low': '253.1100',\n   '4. close': '253.8600',\n   '5. volume': '99539907'},\n  '2023-08-03': {'1. open': '252.0400',\n   '2. high': '260.4900',\n   '3. low': '252.0000',\n   '4. close': '259.3200',\n   '5. volume': '97829545'},\n  '2023-08-02': {'1. open': '255.5700',\n   '2. high': '259.5200',\n   '3. low': '250.4900',\n   '4. close': '254.1100',\n   '5. volume': '101752865'},\n  '2023-08-01': {'1. open': '266.2600',\n   '2. high': '266.4700',\n   '3. low': '260.2500',\n   '4. close': '261.0700',\n   '5. volume': '83645720'},\n  '2023-07-31': {'1. open': '267.4800',\n   '2. high': '269.0800',\n   '3. low': '263.7800',\n   '4. close': '267.4300',\n   '5. volume': '84582172'},\n  '2023-07-28': {'1. open': '259.8600',\n   '2. high': '267.2500',\n   '3. low': '258.2312',\n   '4. close': '266.4400',\n   '5. volume': '111446026'},\n  '2023-07-27': {'1. open': '268.3100',\n   '2. high': '269.1300',\n   '3. low': '255.3000',\n   '4. close': '255.7100',\n   '5. volume': '103697263'},\n  '2023-07-26': {'1. open': '263.2500',\n   '2. high': '268.0400',\n   '3. low': '261.7500',\n   '4. close': '264.3500',\n   '5. volume': '95856177'},\n  '2023-07-25': {'1. open': '272.3800',\n   '2. high': '272.9000',\n   '3. low': '265.0000',\n   '4. close': '265.2800',\n   '5. volume': '112757327'},\n  '2023-07-24': {'1. open': '255.8500',\n   '2. high': '269.8500',\n   '3. low': '254.1200',\n   '4. close': '269.0600',\n   '5. volume': '137005037'},\n  '2023-07-21': {'1. open': '268.0000',\n   '2. high': '268.0000',\n   '3. low': '255.8000',\n   '4. close': '260.0200',\n   '5. volume': '161796073'},\n  '2023-07-20': {'1. open': '279.5600',\n   '2. high': '280.9300',\n   '3. low': '261.2000',\n   '4. close': '262.9000',\n   '5. volume': '175158273'},\n  '2023-07-19': {'1. open': '296.0400',\n   '2. high': '299.2900',\n   '3. low': '289.5201',\n   '4. close': '291.2600',\n   '5. volume': '142355353'},\n  '2023-07-18': {'1. open': '290.1500',\n   '2. high': '295.2600',\n   '3. low': '286.0100',\n   '4. close': '293.3400',\n   '5. volume': '112434713'},\n  '2023-07-17': {'1. open': '286.6250',\n   '2. high': '292.2300',\n   '3. low': '283.5700',\n   '4. close': '290.3800',\n   '5. volume': '131569593'},\n  '2023-07-14': {'1. open': '277.0100',\n   '2. high': '285.3000',\n   '3. low': '276.3100',\n   '4. close': '281.3800',\n   '5. volume': '120062369'},\n  '2023-07-13': {'1. open': '274.5900',\n   '2. high': '279.4500',\n   '3. low': '270.6000',\n   '4. close': '277.9000',\n   '5. volume': '112681458'},\n  '2023-07-12': {'1. open': '276.3250',\n   '2. high': '276.5200',\n   '3. low': '271.4600',\n   '4. close': '271.9900',\n   '5. volume': '95672139'},\n  '2023-07-11': {'1. open': '268.6500',\n   '2. high': '270.9000',\n   '3. low': '266.3700',\n   '4. close': '269.7900',\n   '5. volume': '91972358'},\n  '2023-07-10': {'1. open': '276.4700',\n   '2. high': '277.5200',\n   '3. low': '265.1000',\n   '4. close': '269.6100',\n   '5. volume': '119425405'},\n  '2023-07-07': {'1. open': '278.4300',\n   '2. high': '280.7800',\n   '3. low': '273.7700',\n   '4. close': '274.4300',\n   '5. volume': '113879174'},\n  '2023-07-06': {'1. open': '278.0900',\n   '2. high': '279.9700',\n   '3. low': '272.8800',\n   '4. close': '276.5400',\n   '5. volume': '120707419'},\n  '2023-07-05': {'1. open': '278.8200',\n   '2. high': '283.8500',\n   '3. low': '277.6000',\n   '4. close': '282.4800',\n   '5. volume': '131530862'},\n  '2023-07-03': {'1. open': '276.4900',\n   '2. high': '284.2500',\n   '3. low': '275.1100',\n   '4. close': '279.8200',\n   '5. volume': '119685891'},\n  '2023-06-30': {'1. open': '260.6000',\n   '2. high': '264.4500',\n   '3. low': '259.8900',\n   '4. close': '261.7700',\n   '5. volume': '112620784'},\n  '2023-06-29': {'1. open': '258.0300',\n   '2. high': '260.7400',\n   '3. low': '253.6100',\n   '4. close': '257.5000',\n   '5. volume': '131283360'},\n  '2023-06-28': {'1. open': '249.7000',\n   '2. high': '259.8800',\n   '3. low': '248.8900',\n   '4. close': '256.2400',\n   '5. volume': '159770797'},\n  '2023-06-27': {'1. open': '243.2400',\n   '2. high': '250.3899',\n   '3. low': '240.8500',\n   '4. close': '250.2100',\n   '5. volume': '164968214'},\n  '2023-06-26': {'1. open': '250.0650',\n   '2. high': '258.3700',\n   '3. low': '240.7000',\n   '4. close': '241.0500',\n   '5. volume': '179990552'},\n  '2023-06-23': {'1. open': '259.2900',\n   '2. high': '262.4500',\n   '3. low': '252.8000',\n   '4. close': '256.6000',\n   '5. volume': '177460803'},\n  '2023-06-22': {'1. open': '250.7700',\n   '2. high': '265.0000',\n   '3. low': '248.2500',\n   '4. close': '264.6100',\n   '5. volume': '166875944'},\n  '2023-06-21': {'1. open': '275.1300',\n   '2. high': '276.9900',\n   '3. low': '257.7800',\n   '4. close': '259.4600',\n   '5. volume': '211797109'},\n  '2023-06-20': {'1. open': '261.5000',\n   '2. high': '274.7500',\n   '3. low': '261.1200',\n   '4. close': '274.4500',\n   '5. volume': '165611217'},\n  '2023-06-16': {'1. open': '258.9200',\n   '2. high': '263.6000',\n   '3. low': '257.2091',\n   '4. close': '260.5400',\n   '5. volume': '167915649'},\n  '2023-06-15': {'1. open': '248.4000',\n   '2. high': '258.9500',\n   '3. low': '247.2900',\n   '4. close': '255.9000',\n   '5. volume': '160171238'},\n  '2023-06-14': {'1. open': '260.1700',\n   '2. high': '261.5700',\n   '3. low': '250.5000',\n   '4. close': '256.7900',\n   '5. volume': '170575536'}}}"
     },
     "execution_count": 32,
     "metadata": {},
     "output_type": "execute_result"
    }
   ],
   "source": [
    "data"
   ],
   "metadata": {
    "collapsed": false,
    "ExecuteTime": {
     "end_time": "2023-11-04T16:28:52.567199600Z",
     "start_time": "2023-11-04T16:28:52.554553500Z"
    }
   },
   "id": "73d03f96ef4eaf1b"
  },
  {
   "cell_type": "code",
   "execution_count": 33,
   "outputs": [
    {
     "name": "stdout",
     "output_type": "stream",
     "text": [
      "Today is:  2023-11-04\n",
      "Yesterday was:  2023-11-03\n",
      "2 days ago was:  2023-11-02\n"
     ]
    }
   ],
   "source": [
    "from datetime import date\n",
    "from datetime import timedelta\n",
    " \n",
    "# Get today's date\n",
    "today = date.today()\n",
    "print(\"Today is: \", today)\n",
    " \n",
    "# Yesterday date\n",
    "yesterday = today - timedelta(days = 1)\n",
    "day_before_yesterday = today - timedelta(days = 2)\n",
    "print(\"Yesterday was: \", yesterday)\n",
    "print(\"2 days ago was: \", day_before_yesterday)"
   ],
   "metadata": {
    "collapsed": false,
    "ExecuteTime": {
     "end_time": "2023-11-04T16:28:52.606387400Z",
     "start_time": "2023-11-04T16:28:52.562076Z"
    }
   },
   "id": "68b20286e43cb312"
  },
  {
   "cell_type": "code",
   "execution_count": 34,
   "outputs": [
    {
     "name": "stdout",
     "output_type": "stream",
     "text": [
      "Yesterday close price: 219.96\n",
      "2 Days ago close price: 218.51\n"
     ]
    }
   ],
   "source": [
    "yesterday_close_price = data[\"Time Series (Daily)\"][str(yesterday)]['4. close']\n",
    "# convert str to float\n",
    "yesterday_close_price = float(yesterday_close_price)\n",
    "\n",
    "two_days_ago_close_price = data[\"Time Series (Daily)\"][str(day_before_yesterday)]['4. close']\n",
    "# convert str to float\n",
    "two_days_ago_close_price = float(two_days_ago_close_price)\n",
    "\n",
    "print(f\"Yesterday close price: {yesterday_close_price}\")\n",
    "print(f\"2 Days ago close price: {two_days_ago_close_price}\")"
   ],
   "metadata": {
    "collapsed": false,
    "ExecuteTime": {
     "end_time": "2023-11-04T16:28:52.614392100Z",
     "start_time": "2023-11-04T16:28:52.574466300Z"
    }
   },
   "id": "2f7bf90ca8385ccd"
  },
  {
   "cell_type": "code",
   "execution_count": 35,
   "outputs": [
    {
     "name": "stdout",
     "output_type": "stream",
     "text": [
      "stock change percentage is: 0.6635851906091333\n"
     ]
    }
   ],
   "source": [
    "stock_change = (yesterday_close_price - two_days_ago_close_price)/two_days_ago_close_price * 100\n",
    "\n",
    "if stock_change > 0:\n",
    "    emoji = \"🔺\"\n",
    "elif stock_change < 0:\n",
    "    emoji = \"🔻\"\n",
    "    \n",
    "print(f\"stock change percentage is: {stock_change}\")"
   ],
   "metadata": {
    "collapsed": false,
    "ExecuteTime": {
     "end_time": "2023-11-04T16:28:52.619489700Z",
     "start_time": "2023-11-04T16:28:52.594407300Z"
    }
   },
   "id": "e24aa5b7f1545a16"
  },
  {
   "cell_type": "code",
   "execution_count": 36,
   "outputs": [],
   "source": [
    "def get_news():\n",
    "    news_api_url = \"https://newsapi.org/v2/everything\"\n",
    "    news_api = os.environ.get(\"NEWS_API\")\n",
    "    \n",
    "    news_params = {\n",
    "        \"q\": COMPANY_NAME,\n",
    "        \"from\": day_before_yesterday,\n",
    "        \"to\": yesterday,\n",
    "        \"sortBy\": \"popularity\",\n",
    "        \"apiKey\": news_api,\n",
    "    }\n",
    "    \n",
    "    all_articles = requests.get(url=news_api_url, params=news_params)\n",
    "    all_articles.raise_for_status()\n",
    "    all_articles = all_articles.json()\n",
    "    # get first 3 articles description and save in a list\n",
    "    articles = all_articles[\"articles\"][:3]\n",
    "    articles_title = [article[\"title\"] for article in articles]\n",
    "    articles_description = [article[\"description\"] for article in articles]\n",
    "    return articles_title, articles_description"
   ],
   "metadata": {
    "collapsed": false,
    "ExecuteTime": {
     "end_time": "2023-11-04T16:28:52.624498300Z",
     "start_time": "2023-11-04T16:28:52.606387400Z"
    }
   },
   "id": "5bd26954c72f6d0d"
  },
  {
   "cell_type": "code",
   "execution_count": 37,
   "outputs": [],
   "source": [
    "def send_sms(articles_title, articles_description):\n",
    "    from twilio.rest import Client\n",
    "    import os\n",
    "    \n",
    "    account_sid = os.environ.get(\"TWILIO_ACCOUNT_SID\")\n",
    "    auth_token = os.environ.get(\"TWILIO_AUTH_TOKEN\")\n",
    "    \n",
    "    for _ in range(3):\n",
    "        client = Client(account_sid, auth_token)\n",
    "        message = client.messages \\\n",
    "            .create(\n",
    "            body=f\"{STOCK} {stock_change}% {emoji}\\nHeading: {articles_title[_]}\\n Brief: {articles_description[_]}\",\n",
    "            from_=\"TWILIO_PHONE_NUMBER\",\n",
    "            to=\"PHONE_NUMBER_FOR_NEWS_ALERT\"\n",
    "        )\n",
    "    print(message.status)"
   ],
   "metadata": {
    "collapsed": false,
    "ExecuteTime": {
     "end_time": "2023-11-04T16:28:52.686767600Z",
     "start_time": "2023-11-04T16:28:52.624498300Z"
    }
   },
   "id": "1a74594911e289a8"
  },
  {
   "cell_type": "code",
   "execution_count": 43,
   "outputs": [
    {
     "name": "stdout",
     "output_type": "stream",
     "text": [
      "queued\n"
     ]
    }
   ],
   "source": [
    "if stock_change > 5 or stock_change < -5:\n",
    "    articles_title, articles_description = get_news()\n",
    "    send_sms(articles_title, articles_description)"
   ],
   "metadata": {
    "collapsed": false,
    "ExecuteTime": {
     "end_time": "2023-11-04T16:33:51.143290400Z",
     "start_time": "2023-11-04T16:33:45.052302800Z"
    }
   },
   "id": "321594a12bffe76"
  }
 ],
 "metadata": {
  "kernelspec": {
   "display_name": "Python 3",
   "language": "python",
   "name": "python3"
  },
  "language_info": {
   "codemirror_mode": {
    "name": "ipython",
    "version": 2
   },
   "file_extension": ".py",
   "mimetype": "text/x-python",
   "name": "python",
   "nbconvert_exporter": "python",
   "pygments_lexer": "ipython2",
   "version": "2.7.6"
  }
 },
 "nbformat": 4,
 "nbformat_minor": 5
}
